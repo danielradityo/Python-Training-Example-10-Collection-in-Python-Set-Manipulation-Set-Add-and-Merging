{
 "cells": [
  {
   "cell_type": "markdown",
   "metadata": {},
   "source": [
    "# Python Training Example #10 Collection in Python Set - Manipulation Set Add and Merging"
   ]
  },
  {
   "cell_type": "code",
   "execution_count": 2,
   "metadata": {},
   "outputs": [],
   "source": [
    "# Create a Set\n",
    "land_vehicle = {'Car', 'Motorcycle', 'Bycycle', 'Bus', 'Truck', 'Train'}\n",
    "water_vehicle = {'Boat', 'Ferry', 'Ship', 'Submarine', 'Yacht', 'Sail boat'}\n",
    "people_use = {'Car', 'Car', 'Motorcycle', 'Bycycle', 'Bycycle', 'Motocyle', 'Car', 'Motorcycle', 'Bycycle', 'Car', 'Motorcycle', 'Car', 'Motorcycle', 'Bycycle'}"
   ]
  },
  {
   "cell_type": "markdown",
   "metadata": {},
   "source": [
    "## Merging Set"
   ]
  },
  {
   "cell_type": "code",
   "execution_count": 9,
   "metadata": {},
   "outputs": [
    {
     "name": "stdout",
     "output_type": "stream",
     "text": [
      "{'Tank', 'Motorcycle', 'Truck', 'Car', 'Bus', 'Bycycle', 'Train'}\n"
     ]
    }
   ],
   "source": [
    "# use .add() for adding parameter in set. Set can not have same paramter\n",
    "land_vehicle.add('Tank')\n",
    "print(land_vehicle)"
   ]
  },
  {
   "cell_type": "code",
   "execution_count": 10,
   "metadata": {},
   "outputs": [
    {
     "name": "stdout",
     "output_type": "stream",
     "text": [
      "{'Submarine', 'Tank', 'Boat', 'Motorcycle', 'Truck', 'Car', 'Bus', 'Bycycle', 'Train', 'Ferry', 'Sail boat', 'Ship', 'Yacht'}\n"
     ]
    }
   ],
   "source": [
    "# use .update() to update first variable with second variable\n",
    "land_vehicle.update(water_vehicle)\n",
    "print(land_vehicle)"
   ]
  },
  {
   "cell_type": "code",
   "execution_count": 12,
   "metadata": {},
   "outputs": [
    {
     "name": "stdout",
     "output_type": "stream",
     "text": [
      "{'Bus', 'Train', 'Ferry', 'Submarine', 'Tank', 'Boat', 'Motorcycle', 'Truck', 'Car', 'Bycycle', 'Sail boat', 'Ship', 'Yacht'}\n"
     ]
    }
   ],
   "source": [
    "# use .union() to combine first and second variable in another variable\n",
    "vehicle = land_vehicle.union(water_vehicle)\n",
    "print(vehicle)"
   ]
  },
  {
   "cell_type": "markdown",
   "metadata": {},
   "source": [
    "## .copy()"
   ]
  },
  {
   "cell_type": "code",
   "execution_count": 5,
   "metadata": {},
   "outputs": [
    {
     "name": "stdout",
     "output_type": "stream",
     "text": [
      "{'Bus', 'Car', 'Bycycle', 'Train', 'Motorcycle', 'Truck'}\n"
     ]
    }
   ],
   "source": [
    "# Copy list\n",
    "land_vehicle_copy = land_vehicle.copy()\n",
    "print(land_vehicle_copy)"
   ]
  }
 ],
 "metadata": {
  "kernelspec": {
   "display_name": "Python 3",
   "language": "python",
   "name": "python3"
  },
  "language_info": {
   "codemirror_mode": {
    "name": "ipython",
    "version": 3
   },
   "file_extension": ".py",
   "mimetype": "text/x-python",
   "name": "python",
   "nbconvert_exporter": "python",
   "pygments_lexer": "ipython3",
   "version": "3.8.5"
  }
 },
 "nbformat": 4,
 "nbformat_minor": 4
}
